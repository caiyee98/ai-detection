{
 "cells": [
  {
   "cell_type": "code",
   "execution_count": null,
   "id": "a39abade",
   "metadata": {},
   "outputs": [],
   "source": [
    "# Convert xml files to yolo txt files\n",
    "import glob\n",
    "import os\n",
    "import pickle\n",
    "import xml.etree.ElementTree as ET\n",
    "from os import listdir, getcwd\n",
    "from os.path import join"
   ]
  },
  {
   "cell_type": "code",
   "execution_count": null,
   "id": "f2218bc1",
   "metadata": {},
   "outputs": [],
   "source": [
    "dir_path = 'dataset_labelledimage'\n",
    "im_path = 'dataset_labelledimage'\n",
    "classes = ['hard exudates', 'dot haemorrhage', 'blot haemorrhage' , 'preretinal' ,'fibrosis' , 'new vessels' , 'venous beading' ]\n",
    "with open ('obj.names', 'w') as f:\n",
    "    for clas in classes:\n",
    "        f.write('%s\\n' % clas)\n",
    "        \n",
    "f.close()"
   ]
  },
  {
   "cell_type": "code",
   "execution_count": null,
   "id": "1d6526d6",
   "metadata": {},
   "outputs": [],
   "source": [
    "def getImagesInDir(dir_path):\n",
    "    image_list = []\n",
    "    for filename in glob.glob(dir_path + '/*.jpg'):\n",
    "        image_list.append(filename)\n",
    "\n",
    "    return image_list"
   ]
  },
  {
   "cell_type": "code",
   "execution_count": null,
   "id": "1da882bd",
   "metadata": {},
   "outputs": [],
   "source": [
    "def convert(size, box):\n",
    "    dw = 1./(size[0])\n",
    "    dh = 1./(size[1])\n",
    "    x = (box[0] + box[1])/2.0 - 1\n",
    "    y = (box[2] + box[3])/2.0 - 1\n",
    "    w = box[1] - box[0]\n",
    "    h = box[3] - box[2]\n",
    "    x = \"{:.6f}\".format(x*dw)\n",
    "    w = \"{:.6f}\".format(w*dw)\n",
    "    y = \"{:.6f}\".format(y*dh)\n",
    "    h = \"{:.6f}\".format(h*dh)\n",
    "    return (x,y,w,h)"
   ]
  },
  {
   "cell_type": "code",
   "execution_count": null,
   "id": "64de33bc",
   "metadata": {},
   "outputs": [],
   "source": [
    "def convert_annotation(dir_path, output_path, image_path):\n",
    "    basename = os.path.basename(image_path)\n",
    "    basename_no_ext = os.path.splitext(basename)[0]\n",
    "    try:\n",
    "        in_file = open(dir_path + '/' + basename_no_ext + '.xml')\n",
    "        out_file = open(output_path + '/' + basename_no_ext + '.txt', 'w')\n",
    "        tree = ET.parse(in_file)\n",
    "        root = tree.getroot()\n",
    "        size = root.find('size')\n",
    "        w = int(size.find('width').text)\n",
    "        h = int(size.find('height').text)\n",
    "\n",
    "        for obj in root.iter('object'):\n",
    "            difficult = obj.find('difficult').text\n",
    "            cls = obj.find('name').text\n",
    "            if cls not in classes or int(difficult)==1:\n",
    "                continue\n",
    "            cls_id = classes.index(cls)\n",
    "            xmlbox = obj.find('bndbox')\n",
    "            b = (float(xmlbox.find('xmin').text), float(xmlbox.find('xmax').text), float(xmlbox.find('ymin').text), float(xmlbox.find('ymax').text))\n",
    "            bb = convert((w,h), b)\n",
    "            out_file.write(str(cls_id) + \" \" + \" \".join([str(a) for a in bb]) + '\\n')\n",
    "        out_file.close()\n",
    "    except:\n",
    "        print(basename_no_ext + '.xml' + \" File not Found.\")\n",
    "        out_file = open(output_path + '/' + basename_no_ext + '.txt', 'w').close()"
   ]
  },
  {
   "cell_type": "code",
   "execution_count": null,
   "id": "9b92aa36",
   "metadata": {
    "scrolled": false
   },
   "outputs": [],
   "source": [
    "cwd = getcwd()\n",
    "#xml_dir_path = cwd + '/' + dir_path\n",
    "#full_dir_path = cwd + '/' + im_path\n",
    "#output_path = cwd +'/yolo'\n",
    "\n",
    "\n",
    "xml_dir_path =  dir_path\n",
    "full_dir_path = im_path\n",
    "output_path = im_path\n",
    "\n",
    "if not os.path.exists(output_path):\n",
    "    os.makedirs(output_path)\n",
    "\n",
    "image_paths = getImagesInDir(full_dir_path)\n",
    "list_file = open(cwd + '/image_list.txt', 'w')\n",
    "\n",
    "for image_path in image_paths:\n",
    "    list_file.write(image_path + '\\n')\n",
    "    convert_annotation(xml_dir_path, output_path, image_path)\n",
    "list_file.close()\n",
    "\n",
    "print(\"Finished processing: \" + dir_path)"
   ]
  },
  {
   "cell_type": "code",
   "execution_count": null,
   "id": "58b580fe",
   "metadata": {},
   "outputs": [],
   "source": [
    "with open('obj.data', 'w') as f:\n",
    "    f.write('classes = %s\\n' % len(classes))\n",
    "    f.write('train = %s\\nvalid = %s\\nnames = %s\\nbackup = %s' % (str(cwd + '/image_list.txt'), str(cwd + '/image_list.txt') , str(cwd + '/' + 'obj.names') , str(cwd + '/' + 'weight') ))\n",
    "    \n",
    "f.close()\n",
    "\n",
    "backup = cwd +'/weight'\n",
    "\n",
    "if not os.path.exists(backup):\n",
    "    os.makedirs(backup)\n",
    "    \n",
    "\n",
    "print (\"!./darknet detector train %s %s -clear -map\" % (str(cwd + '/' + 'obj.data'), str(cwd + '/' + 'model.cfg')))    "
   ]
  }
 ],
 "metadata": {
  "kernelspec": {
   "display_name": "Python (cychang)",
   "language": "python",
   "name": "cychang"
  },
  "language_info": {
   "codemirror_mode": {
    "name": "ipython",
    "version": 3
   },
   "file_extension": ".py",
   "mimetype": "text/x-python",
   "name": "python",
   "nbconvert_exporter": "python",
   "pygments_lexer": "ipython3",
   "version": "3.9.7"
  }
 },
 "nbformat": 4,
 "nbformat_minor": 5
}
