{
 "cells": [
  {
   "cell_type": "code",
   "execution_count": null,
   "id": "2fa68452",
   "metadata": {},
   "outputs": [],
   "source": [
    "#cd to Darknet folder \n",
    "%cd /home/darknet/"
   ]
  },
  {
   "cell_type": "code",
   "execution_count": null,
   "id": "37093315",
   "metadata": {},
   "outputs": [],
   "source": [
    "!pwd"
   ]
  },
  {
   "attachments": {},
   "cell_type": "markdown",
   "id": "7286eb53",
   "metadata": {},
   "source": [
    "Train YOLO Model"
   ]
  },
  {
   "cell_type": "code",
   "execution_count": null,
   "id": "f96cb485",
   "metadata": {
    "scrolled": true
   },
   "outputs": [],
   "source": [
    "# Train model\n",
    "!./darknet detector train /home/oppstaradmin/detection/obj.data /home/oppstaradmin/detection/model_yolov4.cfg -clear "
   ]
  },
  {
   "cell_type": "code",
   "execution_count": null,
   "id": "9a68fbcb",
   "metadata": {
    "scrolled": true
   },
   "outputs": [],
   "source": [
    "# Continue Training model from last weights\n",
    "!./darknet detector train /home/oppstaradmin/detection/obj.data /home/oppstaradmin/detection/model_yolov4.cfg /home/oppstaradmin/detection/weight/model_yolov4_last.weights "
   ]
  },
  {
   "cell_type": "code",
   "execution_count": null,
   "id": "6fc4924f",
   "metadata": {},
   "outputs": [],
   "source": [
    "# Get the MAP of the last weights\n",
    "!./darknet detector map /home/oppstaradmin/detection/obj.data /home/oppstaradmin/detection/model_yolov4.cfg /home/oppstaradmin/detection/weight/model_yolov4_last.weights"
   ]
  }
 ],
 "metadata": {
  "kernelspec": {
   "display_name": "Python (cychang)",
   "language": "python",
   "name": "cychang"
  },
  "language_info": {
   "codemirror_mode": {
    "name": "ipython",
    "version": 3
   },
   "file_extension": ".py",
   "mimetype": "text/x-python",
   "name": "python",
   "nbconvert_exporter": "python",
   "pygments_lexer": "ipython3",
   "version": "3.9.7"
  }
 },
 "nbformat": 4,
 "nbformat_minor": 5
}
